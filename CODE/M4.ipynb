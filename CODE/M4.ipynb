{
 "cells": [
  {
   "cell_type": "markdown",
   "id": "95273adc",
   "metadata": {},
   "source": [
    "# Module 4 : Performance measurements of Random Forest classifier:"
   ]
  },
  {
   "cell_type": "code",
   "execution_count": 18,
   "id": "a5564ad5",
   "metadata": {},
   "outputs": [],
   "source": [
    "#import library packages\n",
    "import pandas as pd\n",
    "import matplotlib.pyplot as plt\n",
    "import seaborn as sns\n",
    "import numpy as np"
   ]
  },
  {
   "cell_type": "code",
   "execution_count": 19,
   "id": "72a3c1d4",
   "metadata": {},
   "outputs": [],
   "source": [
    "import warnings\n",
    "warnings.filterwarnings('ignore')"
   ]
  },
  {
   "cell_type": "code",
   "execution_count": 20,
   "id": "78ed6aaa",
   "metadata": {},
   "outputs": [],
   "source": [
    "#Load given dataset\n",
    "data = pd.read_csv(\"data.csv\")"
   ]
  },
  {
   "cell_type": "code",
   "execution_count": 21,
   "id": "d17ee6f2",
   "metadata": {},
   "outputs": [],
   "source": [
    "df=data.dropna()"
   ]
  },
  {
   "cell_type": "code",
   "execution_count": 22,
   "id": "3c9b1388",
   "metadata": {},
   "outputs": [
    {
     "data": {
      "text/plain": [
       "Index(['SFH', 'popUpWidnow', 'SSLfinal_State', 'Request_URL', 'URL_of_Anchor',\n",
       "       'web_traffic', 'URL_Length', 'age_of_domain', 'having_IP_Address',\n",
       "       'Result'],\n",
       "      dtype='object')"
      ]
     },
     "execution_count": 22,
     "metadata": {},
     "output_type": "execute_result"
    }
   ],
   "source": [
    "df.columns"
   ]
  },
  {
   "cell_type": "code",
   "execution_count": 23,
   "id": "3c0058e1",
   "metadata": {},
   "outputs": [],
   "source": [
    "#According to the cross-validated MCC scores, the random forest is the best-performing model, so now let's evaluate its performance on the test set.\n",
    "from sklearn.metrics import confusion_matrix, classification_report, matthews_corrcoef, cohen_kappa_score, accuracy_score, average_precision_score, roc_auc_score"
   ]
  },
  {
   "cell_type": "code",
   "execution_count": 24,
   "id": "d2b4f4dd",
   "metadata": {},
   "outputs": [],
   "source": [
    "X = df.drop(labels='Result', axis=1)\n",
    "#Response variable\n",
    "y = df.loc[:,'Result'] "
   ]
  },
  {
   "cell_type": "code",
   "execution_count": 35,
   "id": "2ce36eb4",
   "metadata": {},
   "outputs": [],
   "source": [
    "#We'll use a test size of 30%. We also stratify the split on the response variable, which is very important to do because there are so few fraudulent transactions.\n",
    "from sklearn.model_selection import train_test_split\n",
    "X_train, X_test, y_train, y_test = train_test_split(X, y, test_size=0.3, random_state=25, stratify=y)"
   ]
  },
  {
   "cell_type": "markdown",
   "id": "b3c73e7f",
   "metadata": {},
   "source": [
    "RandomForestClassifier:"
   ]
  },
  {
   "cell_type": "code",
   "execution_count": 36,
   "id": "9e6ec521",
   "metadata": {},
   "outputs": [
    {
     "name": "stdout",
     "output_type": "stream",
     "text": [
      "\n",
      "Classification report of Random Forest Classifier Results:\n",
      "\n",
      "              precision    recall  f1-score   support\n",
      "\n",
      "          -1       0.91      0.91      0.91       211\n",
      "           0       0.88      0.74      0.81        31\n",
      "           1       0.87      0.90      0.88       164\n",
      "\n",
      "    accuracy                           0.89       406\n",
      "   macro avg       0.89      0.85      0.87       406\n",
      "weighted avg       0.89      0.89      0.89       406\n",
      "\n",
      "\n",
      "Confusion Matrix result of Random Forest Classifier is:\n",
      " [[191   3  17]\n",
      " [  2  23   6]\n",
      " [ 16   0 148]]\n",
      "\n",
      "Sensitivity :  0.9845360824742269\n",
      "\n",
      "Specificity :  0.92\n",
      "\n",
      "Cross validation test results of accuracy:\n",
      "[0.87822878 0.90774908 0.89667897 0.91481481 0.9037037 ]\n",
      "\n",
      "Accuracy result of Random Forest Classifier is: 90.02350690173569\n"
     ]
    }
   ],
   "source": [
    "from sklearn.metrics import accuracy_score, confusion_matrix\n",
    "from sklearn.ensemble import RandomForestClassifier\n",
    "from sklearn.model_selection import cross_val_score\n",
    "\n",
    "rfc = RandomForestClassifier()\n",
    "\n",
    "rfc.fit(X_train,y_train)\n",
    "\n",
    "predictR = rfc.predict(X_test)\n",
    "\n",
    "print(\"\")\n",
    "print('Classification report of Random Forest Classifier Results:')\n",
    "print(\"\")\n",
    "print(classification_report(y_test,predictR))\n",
    "\n",
    "print(\"\")\n",
    "cm=confusion_matrix(y_test,predictR)\n",
    "print('Confusion Matrix result of Random Forest Classifier is:\\n',cm)\n",
    "print(\"\")\n",
    "sensitivity = cm[0,0]/(cm[0,0]+cm[0,1])\n",
    "print('Sensitivity : ', sensitivity )\n",
    "print(\"\")\n",
    "specificity = cm[1,1]/(cm[1,0]+cm[1,1])\n",
    "print('Specificity : ', specificity)\n",
    "print(\"\")\n",
    "\n",
    "accuracy = cross_val_score(rfc, X, y, scoring='accuracy')\n",
    "print('Cross validation test results of accuracy:')\n",
    "print(accuracy)\n",
    "#get the mean of each fold \n",
    "print(\"\")\n",
    "print(\"Accuracy result of Random Forest Classifier is:\",accuracy.mean() * 100)\n",
    "LR=accuracy.mean() * 100"
   ]
  },
  {
   "cell_type": "code",
   "execution_count": 39,
   "id": "45a35a50",
   "metadata": {},
   "outputs": [
    {
     "data": {
      "image/png": "[encoded data removed]",
      "text/plain": [
       "<Figure size 360x360 with 1 Axes>"
      ]
     },
     "metadata": {
      "needs_background": "light"
     },
     "output_type": "display_data"
    }
   ],
   "source": [
    "def graph():\n",
    "    import matplotlib.pyplot as plt\n",
    "    data=[LR]\n",
    "    alg=\"Random Fores tClassifier\"\n",
    "    plt.figure(figsize=(5,5))\n",
    "    b=plt.bar(alg,data,color=(\"b\"))\n",
    "    plt.title(\"Accuracy comparison of Phishing Website\",fontsize=15)\n",
    "    plt.legend(b,data,fontsize=9)\n",
    "graph()"
   ]
  },
  {
   "cell_type": "code",
   "execution_count": 29,
   "id": "f8470dbe",
   "metadata": {},
   "outputs": [
    {
     "name": "stdout",
     "output_type": "stream",
     "text": [
      "True Positive : 189\n",
      "True Negative : 2\n",
      "False Positive : 2\n",
      "False Negative : 23\n",
      "\n",
      "True Positive Rate : 0.8915094339622641\n",
      "True Negative Rate : 0.5\n",
      "False Positive Rate : 0.5\n",
      "False Negative Rate : 0.10849056603773585\n",
      "\n",
      "Positive Predictive Value : 0.9895287958115183\n",
      "Negative predictive value : 0.08\n"
     ]
    }
   ],
   "source": [
    "TP = cm[0][0]\n",
    "FP = cm[1][0]\n",
    "FN = cm[1][1]\n",
    "TN = cm[0][1]\n",
    "print(\"True Positive :\",TP)\n",
    "print(\"True Negative :\",TN)\n",
    "print(\"False Positive :\",FP)\n",
    "print(\"False Negative :\",FN)\n",
    "print(\"\")\n",
    "TPR = TP/(TP+FN)\n",
    "TNR = TN/(TN+FP)\n",
    "FPR = FP/(FP+TN)\n",
    "FNR = FN/(TP+FN)\n",
    "print(\"True Positive Rate :\",TPR)\n",
    "print(\"True Negative Rate :\",TNR)\n",
    "print(\"False Positive Rate :\",FPR)\n",
    "print(\"False Negative Rate :\",FNR)\n",
    "print(\"\")\n",
    "PPV = TP/(TP+FP)\n",
    "NPV = TN/(TN+FN)\n",
    "print(\"Positive Predictive Value :\",PPV)\n",
    "print(\"Negative predictive value :\",NPV)"
   ]
  },
  {
   "cell_type": "code",
   "execution_count": 30,
   "id": "37b6ec21",
   "metadata": {},
   "outputs": [
    {
     "name": "stdout",
     "output_type": "stream",
     "text": [
      "Confusion matrix-RandomForestClassifier:\n",
      "[[189   2  20]\n",
      " [  2  23   6]\n",
      " [ 13   1 150]]\n"
     ]
    },
    {
     "data": {
      "image/png": "[encoded data removed]",
      "text/plain": [
       "<Figure size 432x288 with 2 Axes>"
      ]
     },
     "metadata": {
      "needs_background": "light"
     },
     "output_type": "display_data"
    }
   ],
   "source": [
    "def plot_confusion_matrix(cm2, title='Confusion matrix-RandomForestClassifier', cmap=plt.cm.Blues):\n",
    "    target_names=['Predict','Actual']\n",
    "    plt.imshow(cm2, interpolation='nearest', cmap=cmap)\n",
    "    plt.title(title)\n",
    "    plt.colorbar()\n",
    "    tick_marks = np.arange(len(target_names))\n",
    "    plt.xticks(tick_marks, target_names, rotation=45)\n",
    "    plt.yticks(tick_marks, target_names)\n",
    "    plt.tight_layout()\n",
    "    plt.ylabel('True label')\n",
    "    plt.xlabel('Predicted label')\n",
    "\n",
    "cm2=confusion_matrix(y_test, predictR)\n",
    "print('Confusion matrix-RandomForestClassifier:')\n",
    "print(cm2)\n",
    "plot_confusion_matrix(cm2)"
   ]
  },
  {
   "cell_type": "code",
   "execution_count": null,
   "id": "b9faf676",
   "metadata": {},
   "outputs": [],
   "source": []
  },
  {
   "cell_type": "code",
   "execution_count": 31,
   "id": "3a9cfa49",
   "metadata": {},
   "outputs": [
    {
     "data": {
      "text/plain": [
       "['rf.pkl']"
      ]
     },
     "execution_count": 31,
     "metadata": {},
     "output_type": "execute_result"
    }
   ],
   "source": [
    "import joblib\n",
    "joblib.dump(rfc,'rf.pkl')"
   ]
  },
  {
   "cell_type": "code",
   "execution_count": null,
   "id": "10a88b8f",
   "metadata": {},
   "outputs": [],
   "source": []
  }
 ],
 "metadata": {
  "kernelspec": {
   "display_name": "Python 3 (ipykernel)",
   "language": "python",
   "name": "python3"
  },
  "language_info": {
   "codemirror_mode": {
    "name": "ipython",
    "version": 3
   },
   "file_extension": ".py",
   "mimetype": "text/x-python",
   "name": "python",
   "nbconvert_exporter": "python",
   "pygments_lexer": "ipython3",
   "version": "3.9.12"
  }
 },
 "nbformat": 4,
 "nbformat_minor": 5
}
